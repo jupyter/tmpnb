{
 "metadata": {
  "kernelspec": {
   "codemirror_mode": {
    "name": "ipython",
    "version": 3
   },
   "display_name": "IPython (Python 3)",
   "language": "python",
   "name": "python3"
  },
  "name": "",
  "signature": "sha256:72b4db0fe85060c2a1ebb342af429dfe84c1b2cb48637f1386aa7a88b60170ec"
 },
 "nbformat": 3,
 "nbformat_minor": 0,
 "worksheets": [
  {
   "cells": [
    {
     "cell_type": "markdown",
     "metadata": {},
     "source": [
      "<div class=\"alert alert-warning\" role=\"alert\" style=\"margin: 10px\">\n",
      "**WARNING:** Don't rely on this service for anything you want to last or anything private. The notebooks are publicly accessible - that's how you got here! This is also a basic prototype, so unexpected things might happen -- including, but not limited to, data and complete code loss.\n",
      "</div>"
     ]
    },
    {
     "cell_type": "code",
     "collapsed": false,
     "input": [],
     "language": "python",
     "metadata": {},
     "outputs": []
    }
   ],
   "metadata": {}
  }
 ]
}