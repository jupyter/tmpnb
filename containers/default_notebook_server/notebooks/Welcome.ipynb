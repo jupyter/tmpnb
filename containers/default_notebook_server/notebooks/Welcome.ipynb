{
 "metadata": {
  "kernelspec": {
   "codemirror_mode": {
    "name": "ipython",
    "version": 3
   },
   "display_name": "IPython (Python 3)",
   "language": "python",
   "name": "python3"
  },
  "name": "",
  "signature": "sha256:66de13dd7a300cf262462356e1118c9c4890f1796a6b07dd6619496534a5a99a"
 },
 "nbformat": 3,
 "nbformat_minor": 0,
 "worksheets": [
  {
   "cells": [
    {
     "cell_type": "markdown",
     "metadata": {},
     "source": [
      "## Welcome to the Jupyter Demo!\n",
      "\n",
      "This Jupyter Notebook Server was **launched just for you**. It's a temporary way for you to try out the IPython notebook from the current development version.\n",
      "\n",
      "\n",
      "<div class=\"alert alert-warning\" role=\"alert\" style=\"margin: 10px\">\n",
      "**WARNING:** Don't rely on this server for anything you want to last or anything private. The notebooks are publicly accessible - that's how you got here! This is also a basic prototype, so unexpected things might happen.\n",
      "</div>\n",
      "\n",
      "Feel free run some code, make some plots, and play at your leisure!"
     ]
    },
    {
     "cell_type": "code",
     "collapsed": false,
     "input": [],
     "language": "python",
     "metadata": {},
     "outputs": []
    },
    {
     "cell_type": "markdown",
     "metadata": {},
     "source": [
      "### Behind the scenes\n",
      "\n",
      "The service you're using is called [tmpnb](https://github.com/jupyter/tmpnb), a simple Tornado application that spawns [pre-built Docker containers](https://github.com/ipython/docker-notebook) in < 2 seconds (Thanks [Docker](https://docker.com)!) and then uses the [jupyter/configurable-http-proxy](https://github.com/jupyter/configurable-http-proxy) to put your notebook server on a unique path.\n",
      "\n",
      "The entire setup is hosted on an [OnMetal server](http://www.rackspace.com/cloud/servers/onmetal/), an on-demand bare metal server at [Rackspace](https://developer.rackspace.com/)."
     ]
    },
    {
     "cell_type": "code",
     "collapsed": false,
     "input": [],
     "language": "python",
     "metadata": {},
     "outputs": []
    }
   ],
   "metadata": {}
  }
 ]
}